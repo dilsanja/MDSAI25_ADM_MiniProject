{
 "cells": [
  {
   "cell_type": "markdown",
   "id": "8e55840e",
   "metadata": {},
   "source": [
    "# 🚀 Project Pipeline Runner\n",
    "This notebook runs each step of your data pipeline: Clean → Clustering → EDA → Rule Mining."
   ]
  },
  {
   "cell_type": "code",
   "execution_count": 5,
   "id": "e89a7cd0",
   "metadata": {},
   "outputs": [
    {
     "name": "stdout",
     "output_type": "stream",
     "text": [
      "Requirement already satisfied: pandas in /Users/eleos/jupyterenv/lib/python3.12/site-packages (2.2.3)\n",
      "Requirement already satisfied: numpy in /Users/eleos/jupyterenv/lib/python3.12/site-packages (2.2.6)\n",
      "Requirement already satisfied: matplotlib in /Users/eleos/jupyterenv/lib/python3.12/site-packages (3.10.3)\n",
      "Requirement already satisfied: seaborn in /Users/eleos/jupyterenv/lib/python3.12/site-packages (0.13.2)\n",
      "Requirement already satisfied: mlxtend in /Users/eleos/jupyterenv/lib/python3.12/site-packages (0.23.4)\n",
      "Requirement already satisfied: scikit-learn in /Users/eleos/jupyterenv/lib/python3.12/site-packages (1.6.1)\n",
      "Requirement already satisfied: openpyxl in /Users/eleos/jupyterenv/lib/python3.12/site-packages (3.1.5)\n",
      "Requirement already satisfied: python-dateutil>=2.8.2 in /Users/eleos/jupyterenv/lib/python3.12/site-packages (from pandas) (2.9.0.post0)\n",
      "Requirement already satisfied: pytz>=2020.1 in /Users/eleos/jupyterenv/lib/python3.12/site-packages (from pandas) (2025.2)\n",
      "Requirement already satisfied: tzdata>=2022.7 in /Users/eleos/jupyterenv/lib/python3.12/site-packages (from pandas) (2025.2)\n",
      "Requirement already satisfied: contourpy>=1.0.1 in /Users/eleos/jupyterenv/lib/python3.12/site-packages (from matplotlib) (1.3.2)\n",
      "Requirement already satisfied: cycler>=0.10 in /Users/eleos/jupyterenv/lib/python3.12/site-packages (from matplotlib) (0.12.1)\n",
      "Requirement already satisfied: fonttools>=4.22.0 in /Users/eleos/jupyterenv/lib/python3.12/site-packages (from matplotlib) (4.58.0)\n",
      "Requirement already satisfied: kiwisolver>=1.3.1 in /Users/eleos/jupyterenv/lib/python3.12/site-packages (from matplotlib) (1.4.8)\n",
      "Requirement already satisfied: packaging>=20.0 in /Users/eleos/jupyterenv/lib/python3.12/site-packages (from matplotlib) (25.0)\n",
      "Requirement already satisfied: pillow>=8 in /Users/eleos/jupyterenv/lib/python3.12/site-packages (from matplotlib) (11.2.1)\n",
      "Requirement already satisfied: pyparsing>=2.3.1 in /Users/eleos/jupyterenv/lib/python3.12/site-packages (from matplotlib) (3.2.3)\n",
      "Requirement already satisfied: scipy>=1.2.1 in /Users/eleos/jupyterenv/lib/python3.12/site-packages (from mlxtend) (1.15.3)\n",
      "Requirement already satisfied: joblib>=0.13.2 in /Users/eleos/jupyterenv/lib/python3.12/site-packages (from mlxtend) (1.5.1)\n",
      "Requirement already satisfied: threadpoolctl>=3.1.0 in /Users/eleos/jupyterenv/lib/python3.12/site-packages (from scikit-learn) (3.6.0)\n",
      "Requirement already satisfied: et-xmlfile in /Users/eleos/jupyterenv/lib/python3.12/site-packages (from openpyxl) (2.0.0)\n",
      "Requirement already satisfied: six>=1.5 in /Users/eleos/jupyterenv/lib/python3.12/site-packages (from python-dateutil>=2.8.2->pandas) (1.17.0)\n"
     ]
    }
   ],
   "source": [
    "!pip install pandas numpy matplotlib seaborn mlxtend scikit-learn openpyxl\n"
   ]
  },
  {
   "cell_type": "code",
   "execution_count": 11,
   "id": "7b21783c",
   "metadata": {},
   "outputs": [
    {
     "ename": "FileNotFoundError",
     "evalue": "Dataset not found. Please place 'OnlineRetail.xlsx' in the data/ directory.",
     "output_type": "error",
     "traceback": [
      "\u001b[31m---------------------------------------------------------------------------\u001b[39m",
      "\u001b[31mFileNotFoundError\u001b[39m                         Traceback (most recent call last)",
      "\u001b[36mCell\u001b[39m\u001b[36m \u001b[39m\u001b[32mIn[11]\u001b[39m\u001b[32m, line 2\u001b[39m\n\u001b[32m      1\u001b[39m \u001b[38;5;28;01mimport\u001b[39;00m\u001b[38;5;250m \u001b[39m\u001b[34;01mrunpy\u001b[39;00m\n\u001b[32m----> \u001b[39m\u001b[32m2\u001b[39m \u001b[43mrunpy\u001b[49m\u001b[43m.\u001b[49m\u001b[43mrun_path\u001b[49m\u001b[43m(\u001b[49m\u001b[33;43m\"\u001b[39;49m\u001b[33;43m../src/clean_data.py\u001b[39;49m\u001b[33;43m\"\u001b[39;49m\u001b[43m)\u001b[49m\n\u001b[32m      3\u001b[39m runpy.run_path(\u001b[33m\"\u001b[39m\u001b[33m../src/clustering.py\u001b[39m\u001b[33m\"\u001b[39m)\n\u001b[32m      4\u001b[39m runpy.run_path(\u001b[33m\"\u001b[39m\u001b[33m../src/exploratory_analysis.py\u001b[39m\u001b[33m\"\u001b[39m)\n",
      "\u001b[36mFile \u001b[39m\u001b[32m<frozen runpy>:286\u001b[39m, in \u001b[36mrun_path\u001b[39m\u001b[34m(path_name, init_globals, run_name)\u001b[39m\n",
      "\u001b[36mFile \u001b[39m\u001b[32m<frozen runpy>:98\u001b[39m, in \u001b[36m_run_module_code\u001b[39m\u001b[34m(code, init_globals, mod_name, mod_spec, pkg_name, script_name)\u001b[39m\n",
      "\u001b[36mFile \u001b[39m\u001b[32m<frozen runpy>:88\u001b[39m, in \u001b[36m_run_code\u001b[39m\u001b[34m(code, run_globals, init_globals, mod_name, mod_spec, pkg_name, script_name)\u001b[39m\n",
      "\u001b[36mFile \u001b[39m\u001b[32m~/Documents/Datamining/finalCreate/Back_to_School_MiniProject/src/clean_data.py:10\u001b[39m\n\u001b[32m      7\u001b[39m school_output_file = \u001b[33m\"\u001b[39m\u001b[33mdata/school_products_only.csv\u001b[39m\u001b[33m\"\u001b[39m\n\u001b[32m      9\u001b[39m \u001b[38;5;28;01mif\u001b[39;00m \u001b[38;5;129;01mnot\u001b[39;00m os.path.exists(input_file):\n\u001b[32m---> \u001b[39m\u001b[32m10\u001b[39m     \u001b[38;5;28;01mraise\u001b[39;00m \u001b[38;5;167;01mFileNotFoundError\u001b[39;00m(\u001b[33m\"\u001b[39m\u001b[33mDataset not found. Please place \u001b[39m\u001b[33m'\u001b[39m\u001b[33mOnlineRetail.xlsx\u001b[39m\u001b[33m'\u001b[39m\u001b[33m in the data/ directory.\u001b[39m\u001b[33m\"\u001b[39m)\n\u001b[32m     12\u001b[39m \u001b[38;5;66;03m# Load and clean\u001b[39;00m\n\u001b[32m     13\u001b[39m df = pd.read_excel(input_file)\n",
      "\u001b[31mFileNotFoundError\u001b[39m: Dataset not found. Please place 'OnlineRetail.xlsx' in the data/ directory."
     ]
    }
   ],
   "source": [
    "import runpy\n",
    "runpy.run_path(\"../src/clean_data.py\")\n",
    "runpy.run_path(\"../src/clustering.py\")\n",
    "runpy.run_path(\"../src/exploratory_analysis.py\")\n",
    "runpy.run_path(\"../src/rule_mining.py\")\n"
   ]
  },
  {
   "cell_type": "code",
   "execution_count": null,
   "id": "389efead",
   "metadata": {},
   "outputs": [],
   "source": [
    "import src.clean_data as clean_data\n",
    "clean_data.run()"
   ]
  },
  {
   "cell_type": "code",
   "execution_count": null,
   "id": "0718c9b0",
   "metadata": {},
   "outputs": [],
   "source": [
    "import src.clustering as clustering\n",
    "clustering.run()"
   ]
  },
  {
   "cell_type": "code",
   "execution_count": null,
   "id": "66eb2a70",
   "metadata": {},
   "outputs": [],
   "source": [
    "import src.exploratory_analysis as exploratory_analysis\n",
    "exploratory_analysis.run()"
   ]
  },
  {
   "cell_type": "code",
   "execution_count": null,
   "id": "6097db57",
   "metadata": {},
   "outputs": [],
   "source": [
    "import src.rule_mining as rule_mining\n",
    "rule_mining.run()"
   ]
  }
 ],
 "metadata": {
  "kernelspec": {
   "display_name": "Python 3 (ipykernel)",
   "language": "python",
   "name": "python3"
  },
  "language_info": {
   "codemirror_mode": {
    "name": "ipython",
    "version": 3
   },
   "file_extension": ".py",
   "mimetype": "text/x-python",
   "name": "python",
   "nbconvert_exporter": "python",
   "pygments_lexer": "ipython3",
   "version": "3.12.5"
  }
 },
 "nbformat": 4,
 "nbformat_minor": 5
}
