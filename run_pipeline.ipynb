{
 "cells": [
  {
   "cell_type": "markdown",
   "id": "8e55840e",
   "metadata": {},
   "source": [
    "# 🚀 Project Pipeline Runner\n",
    "This notebook runs each step of your data pipeline: Clean → Clustering → EDA → Rule Mining."
   ]
  },
  {
   "cell_type": "code",
   "execution_count": null,
   "id": "e89a7cd0",
   "metadata": {},
   "outputs": [],
   "source": [
    "!pip install pandas numpy matplotlib seaborn mlxtend scikit-learn openpyxl\n"
   ]
  },
  {
   "cell_type": "code",
   "execution_count": 1,
   "id": "7b21783c",
   "metadata": {},
   "outputs": [
    {
     "name": "stdout",
     "output_type": "stream",
     "text": [
      "Saved: data/cleaned_retail.csv, School products: data/school_products_only.csv\n",
      "Clustering complete: results saved to data/\n",
      "EDA complete: charts saved to data/\n"
     ]
    },
    {
     "name": "stderr",
     "output_type": "stream",
     "text": [
      "/Users/eleos/Documents/Datamining/finalCreate/Back_to_School_MiniProject/src/rule_mining.py:12: FutureWarning: DataFrame.applymap has been deprecated. Use DataFrame.map instead.\n",
      "  grouped = grouped.applymap(lambda x: 1 if x > 0 else 0)\n",
      "/Users/eleos/jupyterenv/lib/python3.12/site-packages/mlxtend/frequent_patterns/fpcommon.py:161: DeprecationWarning: DataFrames with non-bool types result in worse computationalperformance and their support might be discontinued in the future.Please use a DataFrame with bool type\n",
      "  warnings.warn(\n"
     ]
    },
    {
     "name": "stdout",
     "output_type": "stream",
     "text": [
      "Saved 146 rules to data/association_rules_term_start.csv\n"
     ]
    }
   ],
   "source": [
    "from src import clean_data, clustering, exploratory_analysis, rule_mining\n"
   ]
  },
  {
   "cell_type": "code",
   "execution_count": 2,
   "id": "389efead",
   "metadata": {},
   "outputs": [
    {
     "name": "stdout",
     "output_type": "stream",
     "text": [
      " Cleaning Data ran from main.py\n"
     ]
    }
   ],
   "source": [
    "clean_data.run()"
   ]
  },
  {
   "cell_type": "code",
   "execution_count": 3,
   "id": "0718c9b0",
   "metadata": {},
   "outputs": [
    {
     "name": "stdout",
     "output_type": "stream",
     "text": [
      " Clustering logic ran from main.py\n"
     ]
    }
   ],
   "source": [
    "clustering.run()"
   ]
  },
  {
   "cell_type": "code",
   "execution_count": 4,
   "id": "66eb2a70",
   "metadata": {},
   "outputs": [
    {
     "name": "stdout",
     "output_type": "stream",
     "text": [
      " Exploratory Data Analysis ran from main.py\n"
     ]
    }
   ],
   "source": [
    "exploratory_analysis.run()"
   ]
  },
  {
   "cell_type": "code",
   "execution_count": 5,
   "id": "6097db57",
   "metadata": {},
   "outputs": [
    {
     "name": "stdout",
     "output_type": "stream",
     "text": [
      " Association Rule Mining ran from main.py\n"
     ]
    }
   ],
   "source": [
    "rule_mining.run()"
   ]
  },
  {
   "cell_type": "code",
   "execution_count": null,
   "id": "7bae6a4f-9a21-41ea-b1d3-d13cda459a00",
   "metadata": {},
   "outputs": [],
   "source": []
  }
 ],
 "metadata": {
  "kernelspec": {
   "display_name": "Python 3 (ipykernel)",
   "language": "python",
   "name": "python3"
  },
  "language_info": {
   "codemirror_mode": {
    "name": "ipython",
    "version": 3
   },
   "file_extension": ".py",
   "mimetype": "text/x-python",
   "name": "python",
   "nbconvert_exporter": "python",
   "pygments_lexer": "ipython3",
   "version": "3.12.5"
  }
 },
 "nbformat": 4,
 "nbformat_minor": 5
}
